{
 "cells": [
  {
   "cell_type": "code",
   "execution_count": 1,
   "metadata": {},
   "outputs": [],
   "source": [
    "import pandas as pd\n",
    "import numpy as np\n",
    "from sklearn.model_selection import train_test_split\n",
    "from sklearn.metrics import accuracy_score\n",
    "import random\n",
    "pd.set_option('display.max_colwidth', 100)"
   ]
  },
  {
   "cell_type": "code",
   "execution_count": 2,
   "metadata": {},
   "outputs": [],
   "source": [
    "class_name = 'n'\n",
    "\n",
    "# Validation Set\n",
    "val_labels = pd.read_csv(\"../../radnlp_2024_train_val_20240731/en/main_task/val/label.csv\")\n",
    "val_path = \"../prediction/ensemble/val/\"\n",
    "# r1\n",
    "r1_val_1 = pd.read_csv(f\"{val_path}deepseek-reasoner_val_01.csv\")\n",
    "r1_val_2 = pd.read_csv(f\"{val_path}deepseek-reasoner_val_02.csv\")\n",
    "r1_val_3 = pd.read_csv(f\"{val_path}deepseek-reasoner_val_03.csv\")\n",
    "# o1\n",
    "o1_val_1 = pd.read_csv(f\"{val_path}o1-mini_val_01.csv\")\n",
    "o1_val_2 = pd.read_csv(f\"{val_path}o1-mini_val_02.csv\")\n",
    "o1_val_3 = pd.read_csv(f\"{val_path}o1-mini_val_03.csv\")"
   ]
  },
  {
   "cell_type": "code",
   "execution_count": 3,
   "metadata": {},
   "outputs": [],
   "source": [
    "# Concatenate labels\n",
    "labels = val_labels\n",
    "\n",
    "# Concatenate predictions for r1 (deepseek-reasoner)\n",
    "r1_pred_1 = r1_val_1\n",
    "r1_pred_2 = r1_val_2\n",
    "r1_pred_3 = r1_val_3\n",
    "\n",
    "# Concatenate predictions for o1 (o1-mini)\n",
    "o1_pred_1 = o1_val_1\n",
    "o1_pred_2 = o1_val_2\n",
    "o1_pred_3 = o1_val_3"
   ]
  },
  {
   "cell_type": "code",
   "execution_count": 4,
   "metadata": {},
   "outputs": [
    {
     "name": "stdout",
     "output_type": "stream",
     "text": [
      "          id r1_1_n r1_2_n r1_3_n o1_1_n o1_2_n o1_3_n label\n",
      "0     147290     N0     N0     N0     N0     N0     N0    N0\n",
      "1     241752     N0     N0     N0     N0     N0     N0    N0\n",
      "2     876951     N0     N0     N0     N0     N0     N0    N0\n",
      "3     923073     N0     N0     N0     N0     N0     N0    N0\n",
      "4    1600422     N0     N0     N0     N0     N0     N0    N0\n",
      "5    2318717     N0     N0     N0     N0     N0     N0    N0\n",
      "6    2737981     N0     N0     N0     N0     N0     N0    N0\n",
      "7    2755461     N2     N2     N2     N2     N2     N2    N2\n",
      "8    3162670     N2     N2     N2     N2     N2     N2    N2\n",
      "9    3462779     N2     N2     N2     N2     N2     N2    N2\n",
      "10   4592263     N0     N0     N0     N0     N0     N0    N0\n",
      "11   4644984     N2     N2     N2     N2     N2     N2    N2\n",
      "12   4660316     N2     N2     N2     N2     N2     N2    N2\n",
      "13   4724041     N0     N0     N0     N0     N0     N0    N0\n",
      "14   4734929     N2     N2     N2     N2     N2     N2    N0\n",
      "15   4924173     N0     N0     N0     N0     N0     N0    N0\n",
      "16   5180986     N2     N2     N2     N2     N2     N2    N2\n",
      "17   5764772     N0     N0     N0     N0     N0     N0    N0\n",
      "18   5888093     N3     N3     N3     N3     N3     N3    N3\n",
      "19   6238897     N0     N1     N0     N0     N0     N0    N0\n",
      "20   6278112     N3     N3     N3     N2     N3     N3    N3\n",
      "21   6311491     N1     N1     N1     N1     N1     N1    N1\n",
      "22   6688795     N1     N1     N1     N1     N1     N1    N1\n",
      "23   6831979     N3     N3     N3     N3     N3     N3    N3\n",
      "24   7859648     N2     N2     N2     N2     N2     N2    N2\n",
      "25   7883310     N0     N0     N0     N0     N0     N0    N0\n",
      "26   8370801     N2     N2     N2     N2     N2     N2    N2\n",
      "27   8450208     N0     N0     N0     N0     N0     N0    N0\n",
      "28   8977151     N2     N2     N2     N2     N2     N2    N2\n",
      "29   9815314     N2     N2     N2     N2     N2     N2    N2\n",
      "30  10365351     N2     N2     N2     N2     N2     N2    N2\n",
      "31  10376521     N2     N2     N2     N2     N2     N2    N2\n",
      "32  10634640     N0     N0     N0     N0     N0     N0    N0\n",
      "33  10708825     N2     N2     N2     N2     N2     N2    N2\n",
      "34  10868892     N3     N3     N3     N2     N2     N2    N2\n",
      "35  11407659     N2     N2     N2     N2     N2     N2    N2\n",
      "36  11566958     N1     N1     N1     N1     N1     N1    N0\n",
      "37  11726941     N2     N2     N2     N2     N2     N2    N2\n",
      "38  12023275     N2     N2     N2     N2     N2     N2    N2\n",
      "39  12550658     N2     N2     N2     N2     N2     N2    N2\n",
      "40  12646171     N2     N2     N2     N2     N2     N0    N2\n",
      "41  12667350     N2     N2     N2     N2     N2     N2    N2\n",
      "42  12890602     N0     N0     N0     N0     N0     N0    N0\n",
      "43  13138120     N0     N0     N0     N0     N0     N0    N0\n",
      "44  13248038     N3     N3     N3     N3     N3     N3    N3\n",
      "45  13641873     N3     N3     N3     N3     N3     N3    N3\n",
      "46  13716139     N0     N0     N0     N0     N0     N0    N0\n",
      "47  14063477     N0     N0     N0     N0     N0     N0    N0\n",
      "48  14841832     N1     N1     N1     N0     N0     N1    N1\n",
      "49  15448681     N0     N0     N0     N0     N0     N0    N0\n",
      "50  15532322     N0     N0     N0     N0     N0     N0    N0\n",
      "51  16066820     N0     N0     N0     N0     N0     N0    N0\n",
      "52  16191878     N0     N0     N0     N0     N0     N0    N0\n",
      "53  16572985     N0     N0     N0     N0     N0     N0    N0\n"
     ]
    }
   ],
   "source": [
    "data = pd.DataFrame({\n",
    "    'id': labels['id'],\n",
    "    f'r1_1_{class_name}': r1_pred_1[class_name],\n",
    "    f'r1_2_{class_name}': r1_pred_2[class_name],\n",
    "    f'r1_3_{class_name}': r1_pred_3[class_name],\n",
    "    f'o1_1_{class_name}': o1_pred_1[class_name],\n",
    "    f'o1_2_{class_name}': o1_pred_2[class_name],\n",
    "    f'o1_3_{class_name}': o1_pred_3[class_name],\n",
    "    'label': labels[class_name],\n",
    "})\n",
    "print(data)"
   ]
  },
  {
   "cell_type": "code",
   "execution_count": 5,
   "metadata": {},
   "outputs": [
    {
     "data": {
      "text/plain": [
       "['r1_1_n', 'r1_2_n', 'r1_3_n', 'o1_1_n', 'o1_2_n', 'o1_3_n']"
      ]
     },
     "execution_count": 5,
     "metadata": {},
     "output_type": "execute_result"
    }
   ],
   "source": [
    "data.columns.tolist()[1:-1]"
   ]
  },
  {
   "cell_type": "code",
   "execution_count": null,
   "metadata": {},
   "outputs": [
    {
     "name": "stdout",
     "output_type": "stream",
     "text": [
      "Enhanced Accuracy: 96.30%\n",
      "\n",
      "Results:\n",
      "        id r1_1_n r1_2_n r1_3_n o1_1_n o1_2_n o1_3_n label enhanced_prediction\n",
      "0   147290     N0     N0     N0     N0     N0     N0    N0                  N0\n",
      "1   241752     N0     N0     N0     N0     N0     N0    N0                  N0\n",
      "2   876951     N0     N0     N0     N0     N0     N0    N0                  N0\n",
      "3   923073     N0     N0     N0     N0     N0     N0    N0                  N0\n",
      "4  1600422     N0     N0     N0     N0     N0     N0    N0                  N0\n"
     ]
    }
   ],
   "source": [
    "import pandas as pd\n",
    "from collections import defaultdict\n",
    "\n",
    "\n",
    "\n",
    "# 1. Calculate model accuracies\n",
    "model_columns = data.columns.tolist()[1:-1]\n",
    "accuracies = {}\n",
    "\n",
    "for model in model_columns:\n",
    "    correct_predictions = (data[model] == data['label']).sum()\n",
    "    total_predictions = len(data)\n",
    "    accuracies[model] = correct_predictions / total_predictions\n",
    "\n",
    "# 2. Create weighted voting system with tie-breakers\n",
    "def enhanced_vote(row):\n",
    "    vote_weights = defaultdict(float)\n",
    "    \n",
    "    # Add weights based on model accuracy\n",
    "    for model in model_columns:\n",
    "        class_val = row[model]\n",
    "        vote_weights[class_val] += accuracies[model]\n",
    "    \n",
    "    # Get max weight and candidates\n",
    "    max_weight = max(vote_weights.values())\n",
    "    candidates = [k for k, v in vote_weights.items() if v == max_weight]\n",
    "    \n",
    "    # Enhanced tie-breaking: use class frequency as secondary criterion\n",
    "    if len(candidates) > 1:\n",
    "        class_counts = data['label'].value_counts().to_dict()\n",
    "        return max(candidates, key=lambda x: class_counts.get(x, 0))\n",
    "    \n",
    "    return candidates[0]\n",
    "\n",
    "# 3. Apply the enhanced voting\n",
    "data['enhanced_prediction'] = data.apply(enhanced_vote, axis=1)\n",
    "\n",
    "# 4. Calculate accuracy\n",
    "accuracy = (data['enhanced_prediction'] == data['label']).mean()\n",
    "print(f\"Enhanced Accuracy: {accuracy:.2%}\")\n",
    "print(\"\\nResults:\")\n",
    "print(data.head())"
   ]
  },
  {
   "cell_type": "code",
   "execution_count": 7,
   "metadata": {},
   "outputs": [
    {
     "name": "stdout",
     "output_type": "stream",
     "text": [
      "Accuracy: 0.9630\n"
     ]
    }
   ],
   "source": [
    "y_true = data['label']\n",
    "y_pred = data['enhanced_prediction']\n",
    "\n",
    "acc = accuracy_score(y_true, y_pred)\n",
    "print(f\"Accuracy: {acc:.4f}\")"
   ]
  },
  {
   "cell_type": "code",
   "execution_count": 8,
   "metadata": {},
   "outputs": [
    {
     "data": {
      "text/html": [
       "<div>\n",
       "<style scoped>\n",
       "    .dataframe tbody tr th:only-of-type {\n",
       "        vertical-align: middle;\n",
       "    }\n",
       "\n",
       "    .dataframe tbody tr th {\n",
       "        vertical-align: top;\n",
       "    }\n",
       "\n",
       "    .dataframe thead th {\n",
       "        text-align: right;\n",
       "    }\n",
       "</style>\n",
       "<table border=\"1\" class=\"dataframe\">\n",
       "  <thead>\n",
       "    <tr style=\"text-align: right;\">\n",
       "      <th></th>\n",
       "      <th>id</th>\n",
       "      <th>r1_1_n</th>\n",
       "      <th>r1_2_n</th>\n",
       "      <th>r1_3_n</th>\n",
       "      <th>o1_1_n</th>\n",
       "      <th>o1_2_n</th>\n",
       "      <th>o1_3_n</th>\n",
       "      <th>label</th>\n",
       "      <th>enhanced_prediction</th>\n",
       "    </tr>\n",
       "  </thead>\n",
       "  <tbody>\n",
       "    <tr>\n",
       "      <th>14</th>\n",
       "      <td>4734929</td>\n",
       "      <td>N2</td>\n",
       "      <td>N2</td>\n",
       "      <td>N2</td>\n",
       "      <td>N2</td>\n",
       "      <td>N2</td>\n",
       "      <td>N2</td>\n",
       "      <td>N0</td>\n",
       "      <td>N2</td>\n",
       "    </tr>\n",
       "    <tr>\n",
       "      <th>36</th>\n",
       "      <td>11566958</td>\n",
       "      <td>N1</td>\n",
       "      <td>N1</td>\n",
       "      <td>N1</td>\n",
       "      <td>N1</td>\n",
       "      <td>N1</td>\n",
       "      <td>N1</td>\n",
       "      <td>N0</td>\n",
       "      <td>N1</td>\n",
       "    </tr>\n",
       "  </tbody>\n",
       "</table>\n",
       "</div>"
      ],
      "text/plain": [
       "          id r1_1_n r1_2_n r1_3_n o1_1_n o1_2_n o1_3_n label  \\\n",
       "14   4734929     N2     N2     N2     N2     N2     N2    N0   \n",
       "36  11566958     N1     N1     N1     N1     N1     N1    N0   \n",
       "\n",
       "   enhanced_prediction  \n",
       "14                  N2  \n",
       "36                  N1  "
      ]
     },
     "execution_count": 8,
     "metadata": {},
     "output_type": "execute_result"
    }
   ],
   "source": [
    "filtered_df = data[data['enhanced_prediction'] != data['label']]\n",
    "\n",
    "filtered_df"
   ]
  },
  {
   "cell_type": "code",
   "execution_count": 9,
   "metadata": {},
   "outputs": [
    {
     "data": {
      "text/plain": [
       "{'r1_1_n': 0.9444444444444444,\n",
       " 'r1_2_n': 0.9259259259259259,\n",
       " 'r1_3_n': 0.9444444444444444,\n",
       " 'o1_1_n': 0.9259259259259259,\n",
       " 'o1_2_n': 0.9444444444444444,\n",
       " 'o1_3_n': 0.9444444444444444}"
      ]
     },
     "execution_count": 9,
     "metadata": {},
     "output_type": "execute_result"
    }
   ],
   "source": [
    "accuracies"
   ]
  }
 ],
 "metadata": {
  "kernelspec": {
   "display_name": "ntcir-2024",
   "language": "python",
   "name": "python3"
  },
  "language_info": {
   "codemirror_mode": {
    "name": "ipython",
    "version": 3
   },
   "file_extension": ".py",
   "mimetype": "text/x-python",
   "name": "python",
   "nbconvert_exporter": "python",
   "pygments_lexer": "ipython3",
   "version": "3.10.14"
  }
 },
 "nbformat": 4,
 "nbformat_minor": 2
}
