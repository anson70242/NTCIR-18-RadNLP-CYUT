{
 "cells": [
  {
   "cell_type": "markdown",
   "metadata": {},
   "source": [
    "## Import Library"
   ]
  },
  {
   "cell_type": "code",
   "execution_count": 17,
   "metadata": {},
   "outputs": [],
   "source": [
    "import pandas as pd\n",
    "import numpy as np\n",
    "import joblib\n",
    "from sklearn.metrics import accuracy_score\n",
    "from collections import defaultdict"
   ]
  },
  {
   "cell_type": "markdown",
   "metadata": {},
   "source": [
    "## Read Data"
   ]
  },
  {
   "cell_type": "code",
   "execution_count": 18,
   "metadata": {},
   "outputs": [],
   "source": [
    "dataset = 'train'\n",
    "\n",
    "test_path = f\"./prediction/ensemble/{dataset}/\"\n",
    "# deepseek-reasoner (r1)\n",
    "r1_test_1 = pd.read_csv(f\"{test_path}deepseek-reasoner_{dataset}_01.csv\")\n",
    "r1_test_2 = pd.read_csv(f\"{test_path}deepseek-reasoner_{dataset}_02.csv\")\n",
    "r1_test_3 = pd.read_csv(f\"{test_path}deepseek-reasoner_{dataset}_03.csv\")\n",
    "\n",
    "# openai-o1-mini (o1)\n",
    "o1_test_1 = pd.read_csv(f\"{test_path}o1-mini_{dataset}_01.csv\")\n",
    "o1_test_2 = pd.read_csv(f\"{test_path}o1-mini_{dataset}_02.csv\")\n",
    "o1_test_3 = pd.read_csv(f\"{test_path}o1-mini_{dataset}_03.csv\")\n",
    "\n",
    "# load labels\n",
    "train_labels = pd.read_csv(\"../radnlp_2024_train_val_20240731/en/main_task/train/label.csv\")\n",
    "val_labels = pd.read_csv(\"../radnlp_2024_train_val_20240731/en/main_task/val/label.csv\")\n"
   ]
  },
  {
   "cell_type": "code",
   "execution_count": 19,
   "metadata": {},
   "outputs": [
    {
     "name": "stdout",
     "output_type": "stream",
     "text": [
      "  r1_1_t r1_2_t r1_3_t o1_1_t o1_2_t o1_3_t label_t\n",
      "0     T4     T4     T4     T4     T4     T4      T4\n",
      "1    T1c    T1c    T1c    T1c    T1c    T1c     T1c\n",
      "2     T3     T3     T3     T3     T3     T3      T3\n",
      "3     T4     T4     T4     T4     T4     T4      T4\n",
      "4    T2b    T2b    T2b    T2b    T2b    T2b     T2b\n",
      "  r1_1_n r1_2_n r1_3_n o1_1_n o1_2_n o1_3_n label_n\n",
      "0     N3     N3     N3     N3     N3     N3      N3\n",
      "1     N1     N1     N1     N1     N1     N1      N0\n",
      "2     N0     N0     N0     N0     N0     N0      N0\n",
      "3     N2     N2     N2     N2     N2     N2      N2\n",
      "4     N1     N1     N1     N1     N1     N1      N0\n",
      "  r1_1_m r1_2_m r1_3_m o1_1_m o1_2_m o1_3_m label_m\n",
      "0     M0     M0     M0     M0     M0     M0      M0\n",
      "1     M0     M0     M0     M0     M0     M0      M0\n",
      "2     M0     M0     M0     M0     M0     M0      M0\n",
      "3    M1c    M1c    M1c    M1c    M1c    M1c     M1c\n",
      "4     M0     M0     M0     M0     M0     M0      M0\n"
     ]
    }
   ],
   "source": [
    "classes = ['t', 'n', 'm']\n",
    "preds = {}\n",
    "\n",
    "for class_name in classes:\n",
    "    # Create a DataFrame (or dictionary) for the current class\n",
    "    preds[class_name] = {\n",
    "        f'r1_1_{class_name}': r1_test_1[class_name],\n",
    "        f'r1_2_{class_name}': r1_test_2[class_name],\n",
    "        f'r1_3_{class_name}': r1_test_3[class_name],\n",
    "        f'o1_1_{class_name}': o1_test_1[class_name],\n",
    "        f'o1_2_{class_name}': o1_test_2[class_name],\n",
    "        f'o1_3_{class_name}': o1_test_3[class_name],\n",
    "    }\n",
    "    \n",
    "preds_dfs = {}  # Dictionary to store DataFrames\n",
    "for class_name in classes:\n",
    "    preds_dfs[class_name] = pd.DataFrame({\n",
    "        f'r1_1_{class_name}': r1_test_1[class_name],\n",
    "        f'r1_2_{class_name}': r1_test_2[class_name],\n",
    "        f'r1_3_{class_name}': r1_test_3[class_name],\n",
    "        f'o1_1_{class_name}': o1_test_1[class_name],\n",
    "        f'o1_2_{class_name}': o1_test_2[class_name],\n",
    "        f'o1_3_{class_name}': o1_test_3[class_name],\n",
    "    })\n",
    "    \n",
    "    if dataset == 'train':\n",
    "        preds_dfs[class_name][f'label_{class_name}'] = train_labels[class_name]\n",
    "    elif dataset == 'val':\n",
    "        preds_dfs[class_name][f'label_{class_name}'] = val_labels[class_name]\n",
    "    \n",
    "    print(preds_dfs[class_name].head())"
   ]
  },
  {
   "cell_type": "code",
   "execution_count": 20,
   "metadata": {},
   "outputs": [
    {
     "name": "stdout",
     "output_type": "stream",
     "text": [
      "\n",
      "T DataFrame after replacement:\n",
      "   r1_1_t  r1_2_t  r1_3_t  o1_1_t  o1_2_t  o1_3_t  label_t\n",
      "0       8       8       8       8       8       8        8\n",
      "1       4       4       4       4       4       4        4\n",
      "2       7       7       7       7       7       7        7\n",
      "3       8       8       8       8       8       8        8\n",
      "4       6       6       6       6       6       6        6\n",
      "\n",
      "N DataFrame after replacement:\n",
      "   r1_1_n  r1_2_n  r1_3_n  o1_1_n  o1_2_n  o1_3_n  label_n\n",
      "0       3       3       3       3       3       3        3\n",
      "1       1       1       1       1       1       1        0\n",
      "2       0       0       0       0       0       0        0\n",
      "3       2       2       2       2       2       2        2\n",
      "4       1       1       1       1       1       1        0\n",
      "\n",
      "M DataFrame after replacement:\n",
      "   r1_1_m  r1_2_m  r1_3_m  o1_1_m  o1_2_m  o1_3_m  label_m\n",
      "0       0       0       0       0       0       0        0\n",
      "1       0       0       0       0       0       0        0\n",
      "2       0       0       0       0       0       0        0\n",
      "3       3       3       3       3       3       3        3\n",
      "4       0       0       0       0       0       0        0\n"
     ]
    },
    {
     "name": "stderr",
     "output_type": "stream",
     "text": [
      "/tmp/ipykernel_889756/1713301655.py:21: FutureWarning: Downcasting behavior in `replace` is deprecated and will be removed in a future version. To retain the old behavior, explicitly call `result.infer_objects(copy=False)`. To opt-in to the future behavior, set `pd.set_option('future.no_silent_downcasting', True)`\n",
      "  preds_dfs[class_name].replace(class_mapping, inplace=True)\n",
      "/tmp/ipykernel_889756/1713301655.py:21: FutureWarning: Downcasting behavior in `replace` is deprecated and will be removed in a future version. To retain the old behavior, explicitly call `result.infer_objects(copy=False)`. To opt-in to the future behavior, set `pd.set_option('future.no_silent_downcasting', True)`\n",
      "  preds_dfs[class_name].replace(class_mapping, inplace=True)\n",
      "/tmp/ipykernel_889756/1713301655.py:21: FutureWarning: Downcasting behavior in `replace` is deprecated and will be removed in a future version. To retain the old behavior, explicitly call `result.infer_objects(copy=False)`. To opt-in to the future behavior, set `pd.set_option('future.no_silent_downcasting', True)`\n",
      "  preds_dfs[class_name].replace(class_mapping, inplace=True)\n"
     ]
    }
   ],
   "source": [
    "# Mapping dictionaries\n",
    "t_mapping = {\n",
    "    'T0': 0, 'Tis': 1, 'T1mi': 2, 'T1b': 3, 'T1c': 4,\n",
    "    'T2a': 5, 'T2b': 6, 'T3': 7, 'T4': 8, 'T2': 5, 'T1a': 9\n",
    "}\n",
    "\n",
    "n_mapping = {'N0': 0, 'N1': 1, 'N2': 2, 'N3': 3}\n",
    "m_mapping = {'M0': 0, 'M1a': 1, 'M1b': 2, 'M1c': 3}\n",
    "\n",
    "mapping_dict = {'t': t_mapping, 'n': n_mapping, 'm': m_mapping}\n",
    "\n",
    "reverse_mapping = {\n",
    "    't': {v: k for k, v in t_mapping.items()},\n",
    "    'n': {v: k for k, v in n_mapping.items()},\n",
    "    'm': {v: k for k, v in m_mapping.items()},\n",
    "}\n",
    "reverse_mapping['t'][5] = 'T2a'\n",
    "\n",
    "for class_name in classes:\n",
    "    class_mapping = mapping_dict[class_name]\n",
    "    preds_dfs[class_name].replace(class_mapping, inplace=True)\n",
    "\n",
    "    # Print results\n",
    "    print(f\"\\n{class_name.upper()} DataFrame after replacement:\")\n",
    "    print(preds_dfs[class_name].head())"
   ]
  },
  {
   "cell_type": "code",
   "execution_count": 21,
   "metadata": {},
   "outputs": [
    {
     "name": "stderr",
     "output_type": "stream",
     "text": [
      "/tmp/ipykernel_889756/2989151904.py:3: FutureWarning: Downcasting behavior in `replace` is deprecated and will be removed in a future version. To retain the old behavior, explicitly call `result.infer_objects(copy=False)`. To opt-in to the future behavior, set `pd.set_option('future.no_silent_downcasting', True)`\n",
      "  true_labels.replace(mapping_dict['n'], inplace=True)\n"
     ]
    },
    {
     "data": {
      "text/plain": [
       "0    3\n",
       "1    0\n",
       "2    0\n",
       "3    2\n",
       "4    0\n",
       "Name: n, dtype: int64"
      ]
     },
     "execution_count": 21,
     "metadata": {},
     "output_type": "execute_result"
    }
   ],
   "source": [
    "true_labels = pd.concat([train_labels, val_labels], ignore_index=True)\n",
    "true_labels = true_labels['n']\n",
    "true_labels.replace(mapping_dict['n'], inplace=True)\n",
    "true_labels.head()"
   ]
  },
  {
   "cell_type": "markdown",
   "metadata": {},
   "source": [
    "## Ensemble Learning"
   ]
  },
  {
   "cell_type": "code",
   "execution_count": 22,
   "metadata": {},
   "outputs": [],
   "source": [
    "def vote(model_predictions, true_labels):\n",
    "    # Accuracy for each model\n",
    "    accuracies = {\n",
    "        'r1_1_n': 0.9567901234567902,\n",
    "        'r1_2_n': 0.9506172839506173,\n",
    "        'r1_3_n': 0.9567901234567902,\n",
    "        'o1_1_n': 0.9259259259259259,\n",
    "        'o1_2_n': 0.9382716049382716,\n",
    "        'o1_3_n': 0.9320987654320988\n",
    "    } # From traing and val set (weighted_mjvote.ipynb)\n",
    "    \n",
    "    # Compute class frequencies for tie-breaking\n",
    "    class_counts = true_labels.value_counts().to_dict()\n",
    "    \n",
    "    # Define the enhanced voting function for each row\n",
    "    def enhanced_vote(row):\n",
    "        vote_weights = defaultdict(float)\n",
    "        for model in model_predictions.columns:\n",
    "            class_val = row[model]\n",
    "            vote_weights[class_val] += accuracies[model]\n",
    "        max_weight = max(vote_weights.values(), default=0)\n",
    "        candidates = [cls for cls, weight in vote_weights.items() if weight == max_weight]\n",
    "        if len(candidates) > 1:\n",
    "            # Use class frequency to break ties\n",
    "            return max(candidates, key=lambda x: class_counts.get(x, 0))\n",
    "        else:\n",
    "            return candidates[0] if candidates else None  # Handle edge case with no votes\n",
    "    \n",
    "    # Apply the voting function to each row to get ensemble predictions\n",
    "    ensemble_predictions = model_predictions.apply(enhanced_vote, axis=1)\n",
    "    return ensemble_predictions"
   ]
  },
  {
   "cell_type": "code",
   "execution_count": 23,
   "metadata": {},
   "outputs": [
    {
     "name": "stdout",
     "output_type": "stream",
     "text": [
      "Accuracy(T): 0.9259\n",
      "Accuracy(N): 0.9629629629629629\n",
      "Accuracy(M): 0.9630\n"
     ]
    }
   ],
   "source": [
    "t_XGBoost = joblib.load(f'./ensemble_model/xgboost_model_t.joblib')\n",
    "m_XGBoost = joblib.load(f'./ensemble_model/xgboost_model_m.joblib')\n",
    "\n",
    "# Exclude the last column (labels) when making predictions\n",
    "if dataset == 'train' or dataset == 'val':\n",
    "    # class T\n",
    "    t_ensemble = t_XGBoost.predict(preds_dfs['t'].iloc[:, :-1])\n",
    "    acc_t = accuracy_score(preds_dfs['t']['label_t'], t_ensemble)\n",
    "    \n",
    "    # class N\n",
    "    n_ensemble = vote(preds_dfs['n'].iloc[:, :-1], true_labels)\n",
    "    acc_n = accuracy_score(preds_dfs['n']['label_n'], n_ensemble)\n",
    "    \n",
    "    # class M\n",
    "    m_ensemble = m_XGBoost.predict(preds_dfs['m'].iloc[:, :-1])\n",
    "    acc_m = accuracy_score(preds_dfs['m']['label_m'], m_ensemble)\n",
    "    \n",
    "    print(f\"Accuracy(T): {acc_t:.4f}\")\n",
    "    print(f\"Accuracy(N): {acc_n}\")\n",
    "    print(f\"Accuracy(M): {acc_m:.4f}\")\n",
    "    \n",
    "elif dataset == 'test':\n",
    "    t_ensemble = t_XGBoost.predict(preds_dfs['t'])\n",
    "    n_ensemble = vote(preds_dfs['n'], true_labels)\n",
    "    m_ensemble = m_XGBoost.predict(preds_dfs['m'])\n",
    "    \n",
    "else:\n",
    "    print('No dataset found.')"
   ]
  },
  {
   "cell_type": "markdown",
   "metadata": {},
   "source": [
    "## Save Result"
   ]
  },
  {
   "cell_type": "code",
   "execution_count": 24,
   "metadata": {},
   "outputs": [
    {
     "name": "stdout",
     "output_type": "stream",
     "text": [
      "       id    t   n    m\n",
      "0   56344   T4  N3   M0\n",
      "1  133166  T1c  N1   M0\n",
      "2  165742   T3  N0   M0\n",
      "3  404886   T4  N2  M1c\n",
      "4  463397  T2b  N1   M0\n"
     ]
    }
   ],
   "source": [
    "t_series = pd.Series(t_ensemble)\n",
    "n_series = pd.Series(n_ensemble)\n",
    "m_series = pd.Series(m_ensemble)\n",
    "\n",
    "# Replace values using the reverse_mapping dictionary\n",
    "t_series.replace(reverse_mapping['t'], inplace=True)\n",
    "n_series.replace(reverse_mapping['n'], inplace=True)\n",
    "m_series.replace(reverse_mapping['m'], inplace=True)\n",
    "\n",
    "# Create the DataFrame\n",
    "result_df = pd.DataFrame({\n",
    "    'id': r1_test_1['id'],\n",
    "    't': t_series,\n",
    "    'n': n_series,\n",
    "    'm': m_series,\n",
    "})\n",
    "print(result_df.head())\n",
    "result_df.to_csv(f'./prediction/final_submittion/result_{dataset}.csv', index=False)"
   ]
  }
 ],
 "metadata": {
  "kernelspec": {
   "display_name": "ntcir-2024",
   "language": "python",
   "name": "python3"
  },
  "language_info": {
   "codemirror_mode": {
    "name": "ipython",
    "version": 3
   },
   "file_extension": ".py",
   "mimetype": "text/x-python",
   "name": "python",
   "nbconvert_exporter": "python",
   "pygments_lexer": "ipython3",
   "version": "3.10.14"
  }
 },
 "nbformat": 4,
 "nbformat_minor": 2
}
